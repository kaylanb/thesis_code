{
 "cells": [
  {
   "cell_type": "code",
   "execution_count": 85,
   "metadata": {
    "collapsed": true
   },
   "outputs": [],
   "source": [
    "%matplotlib inline\n",
    "import matplotlib.pyplot as plt\n",
    "import numpy as np\n",
    "import os\n",
    "import subprocess"
   ]
  },
  {
   "cell_type": "code",
   "execution_count": 182,
   "metadata": {
    "collapsed": false
   },
   "outputs": [],
   "source": [
    "def psql_dict(data,keys):\n",
    "    return dict((key,data[key]) for key in keys)\n",
    "\n",
    "def load_psql_file(fn):\n",
    "    fin=open(fn,'r')\n",
    "    keys=fin.readline()\n",
    "    fin.close()\n",
    "    keys= keys.split('|')\n",
    "    for i in range(len(keys)): keys[i]= keys[i].strip()\n",
    "    print 'keys= ',keys\n",
    "    dtype=dict(formats=['f4']*len(keys), names=keys)  #holds more than 4 decimals\n",
    "    #string for some KeyWords\n",
    "    for kw in ['type']: dtype['formats'][keys.index('type')]= 'S4' #length 4 strings\n",
    "    #only tuples to np.loadtxt\n",
    "    for k in dtype.keys(): dtype[k]= tuple(dtype[k])\n",
    "    #load everything\n",
    "    data= np.loadtxt(fn,skiprows=2,delimiter='|',dtype=dtype)\n",
    "    #make data a dictionary\n",
    "    return psql_dict(data,keys)"
   ]
  },
  {
   "cell_type": "code",
   "execution_count": 187,
   "metadata": {
    "collapsed": false
   },
   "outputs": [
    {
     "name": "stdout",
     "output_type": "stream",
     "text": [
      "keys=  ['zhelio', 'g', 'r', 'z', 'gflux', 'rflux', 'zflux', 'w1flux', 'w2flux', 'g_ext', 'r_ext', 'z_ext', 'w1_ext', 'w2_ext', 'type']\n"
     ]
    },
    {
     "data": {
      "text/plain": [
       "['z_ext',\n",
       " 'gflux',\n",
       " 'zflux',\n",
       " 'g',\n",
       " 'w1flux',\n",
       " 'g_ext',\n",
       " 'w2flux',\n",
       " 'r',\n",
       " 'r_ext',\n",
       " 'w2_ext',\n",
       " 'z',\n",
       " 'type',\n",
       " 'w1_ext',\n",
       " 'rflux',\n",
       " 'zhelio']"
      ]
     },
     "execution_count": 187,
     "metadata": {},
     "output_type": "execute_result"
    }
   ],
   "source": [
    "dat= load_psql_file('../truth_table_results/new_deep2_f2.txt')\n",
    "dat.keys()"
   ]
  },
  {
   "cell_type": "code",
   "execution_count": 221,
   "metadata": {
    "collapsed": false
   },
   "outputs": [
    {
     "data": {
      "text/plain": [
       "(array([ 11.05480003,  16.26250076], dtype=float32),\n",
       " array([ 13.35280037,  16.19820023], dtype=float32),\n",
       " array([ 19.31900024,  17.23950005], dtype=float32))"
      ]
     },
     "execution_count": 221,
     "metadata": {},
     "output_type": "execute_result"
    }
   ],
   "source": [
    "ind= np.all( (data['gflux']>10,data['rflux']>10,data['zflux']>10), axis=0)\n",
    "# len((data['gflux'],data['gflux'],data['gflux']))\n",
    "# data['gflux'][ind],data['rflux'][ind],data['zflux'][ind]"
   ]
  },
  {
   "cell_type": "code",
   "execution_count": 237,
   "metadata": {
    "collapsed": false
   },
   "outputs": [
    {
     "data": {
      "text/plain": [
       "array([ True,  True,  True,  True,  True,  True,  True,  True,  True,\n",
       "        True,  True,  True,  True,  True,  True,  True,  True,  True,\n",
       "        True,  True,  True,  True,  True,  True,  True,  True,  True,\n",
       "        True,  True,  True,  True,  True,  True,  True,  True,  True,\n",
       "        True,  True,  True,  True,  True,  True,  True,  True,  True,\n",
       "        True,  True,  True,  True,  True,  True,  True,  True,  True,\n",
       "        True,  True,  True,  True,  True,  True,  True,  True,  True,\n",
       "        True,  True,  True,  True,  True,  True,  True,  True,  True,\n",
       "        True,  True,  True,  True,  True,  True,  True,  True,  True,\n",
       "        True,  True,  True,  True,  True,  True,  True,  True,  True,\n",
       "        True,  True,  True,  True,  True,  True,  True,  True,  True,\n",
       "        True,  True,  True,  True,  True,  True,  True,  True,  True,\n",
       "        True,  True,  True,  True,  True,  True,  True,  True,  True,\n",
       "        True,  True,  True,  True,  True,  True,  True,  True,  True,\n",
       "        True,  True,  True,  True,  True,  True,  True,  True,  True,\n",
       "        True,  True,  True,  True,  True,  True,  True,  True,  True,\n",
       "        True,  True,  True,  True,  True,  True,  True,  True,  True,\n",
       "        True,  True,  True,  True,  True,  True,  True,  True,  True,\n",
       "        True,  True,  True,  True,  True,  True,  True,  True,  True,\n",
       "        True,  True,  True,  True,  True,  True,  True,  True,  True,\n",
       "        True,  True,  True,  True,  True,  True,  True,  True,  True,\n",
       "        True,  True,  True,  True,  True,  True,  True,  True,  True,\n",
       "        True,  True,  True,  True,  True,  True,  True,  True,  True,\n",
       "        True,  True,  True,  True,  True,  True,  True,  True,  True,\n",
       "        True,  True,  True,  True,  True,  True,  True,  True,  True,\n",
       "        True,  True,  True,  True,  True,  True,  True,  True,  True,\n",
       "        True,  True,  True,  True,  True,  True,  True,  True,  True,\n",
       "        True,  True,  True,  True,  True,  True,  True,  True,  True,\n",
       "        True,  True,  True,  True,  True,  True,  True,  True,  True,\n",
       "        True,  True,  True,  True,  True,  True,  True,  True,  True,\n",
       "        True,  True,  True,  True,  True,  True,  True,  True,  True,\n",
       "        True,  True,  True,  True,  True,  True,  True,  True,  True,\n",
       "        True,  True,  True,  True,  True,  True,  True,  True,  True,\n",
       "        True,  True,  True,  True,  True,  True,  True,  True,  True,\n",
       "        True,  True,  True,  True,  True,  True,  True,  True,  True,\n",
       "        True,  True,  True,  True,  True,  True,  True,  True,  True,\n",
       "        True,  True,  True,  True,  True,  True,  True,  True,  True,\n",
       "        True,  True,  True,  True,  True,  True,  True,  True,  True,\n",
       "        True,  True,  True,  True,  True,  True,  True,  True,  True,\n",
       "        True,  True,  True,  True,  True,  True,  True,  True,  True,\n",
       "        True,  True,  True,  True,  True,  True,  True,  True,  True,\n",
       "        True,  True,  True,  True,  True,  True,  True,  True,  True,\n",
       "        True,  True,  True,  True,  True,  True,  True,  True,  True,\n",
       "        True,  True,  True,  True,  True,  True,  True,  True,  True,\n",
       "        True,  True,  True,  True,  True,  True,  True,  True,  True,\n",
       "        True,  True,  True,  True,  True,  True,  True,  True,  True,\n",
       "        True,  True,  True,  True,  True,  True,  True,  True,  True,\n",
       "        True,  True,  True,  True,  True,  True,  True,  True,  True,\n",
       "        True,  True,  True,  True,  True,  True,  True,  True,  True,\n",
       "        True,  True,  True,  True,  True,  True,  True,  True,  True,\n",
       "        True,  True,  True,  True,  True,  True,  True,  True,  True,\n",
       "        True,  True,  True,  True,  True,  True,  True,  True,  True,\n",
       "        True,  True,  True,  True,  True,  True,  True,  True,  True,\n",
       "        True,  True,  True,  True,  True,  True,  True,  True,  True,\n",
       "        True,  True,  True,  True,  True,  True,  True,  True,  True,\n",
       "        True,  True,  True,  True,  True,  True,  True,  True,  True,\n",
       "        True,  True,  True,  True,  True,  True,  True,  True,  True,\n",
       "        True,  True,  True,  True,  True,  True,  True,  True,  True,\n",
       "        True,  True,  True,  True,  True,  True,  True,  True,  True,\n",
       "        True,  True,  True,  True,  True,  True,  True,  True,  True,\n",
       "        True,  True,  True,  True,  True,  True,  True,  True,  True,\n",
       "        True,  True,  True,  True,  True,  True,  True,  True,  True,\n",
       "        True,  True,  True,  True,  True,  True,  True,  True,  True,\n",
       "        True,  True,  True,  True,  True,  True,  True,  True,  True,\n",
       "        True,  True,  True,  True,  True,  True,  True,  True,  True,\n",
       "        True,  True,  True,  True,  True,  True,  True,  True,  True,\n",
       "        True,  True,  True,  True,  True,  True,  True,  True,  True,\n",
       "        True,  True,  True,  True,  True,  True,  True,  True,  True,\n",
       "        True,  True], dtype=bool)"
      ]
     },
     "execution_count": 237,
     "metadata": {},
     "output_type": "execute_result"
    }
   ],
   "source": [
    "# np.all((data['type'] != 'PSF ',data['rflux']<19.35),axis=0)\n",
    " 'PSF '"
   ]
  },
  {
   "cell_type": "code",
   "execution_count": 245,
   "metadata": {
    "collapsed": false
   },
   "outputs": [],
   "source": [
    "def cut_neg_fluxes(data):\n",
    "    ind= np.all((data['gflux']>0,data['rflux']>0, data['zflux']>0,data['w1flux']>0,data['w2flux']>0), axis=0)\n",
    "    for key in data.keys(): data[key]= data[key][ind]\n",
    "\n",
    "def flux_w_ext(data):\n",
    "    for b in ['g', 'r', 'z','w1','w2']:\n",
    "        data[b+'flux_ext']= data[b+'flux']/data[b+'_ext']\n",
    "\n",
    "def flux_to_mag_ab(data):\n",
    "    for b in ['g', 'r', 'z','w1','w2']:\n",
    "        data[b+'mag']= 22.5 -2.5*np.log10(data[b+'flux_ext'])\n",
    "\n",
    "def BGS_cuts(data):\n",
    "    data['bgs']= np.all((data['type'] != 'PSF ',\\\n",
    "                         data['rmag']<19.35),\\\n",
    "                        axis=0)\n",
    "\n",
    "def LRG_cuts(data):\n",
    "    data['lrg']= np.all((data['rmag']<23.0,\\\n",
    "                       data['zmag']<20.56,\\\n",
    "                       data['w1mag']<19.35,\\\n",
    "                       data['rmag']-data['zmag']> 1.6,\\\n",
    "                       data['rmag']-data['w1mag']> 1.33*(data['rmag']-data['zmag']) -0.33),\\\n",
    "                        axis=0)\n",
    "\n",
    "def ELG_cuts(data):\n",
    "    data['elg']= np.all((data['rmag']<23.4,\\\n",
    "                       data['rmag']-data['zmag']> 0.3,\\\n",
    "                        data['rmag']-data['zmag']< 1.5,\\\n",
    "                       data['gmag']-data['rmag']< 1.0*(data['rmag']-data['zmag']) -0.2,\\\n",
    "                        data['gmag']-data['rmag']< -1.0*(data['rmag']-data['zmag']) +1.2),\\\n",
    "                        axis=0)\n",
    "\n",
    "def QSO_cuts(data):\n",
    "    wavg= 0.75*data['w1mag']+ 0.25*data['w2mag']\n",
    "    data['qso']= np.all((data['type']=='PSF ',\\\n",
    "                        data['rmag']<23.0,\n",
    "                       data['gmag']-data['rmag']< 1.0,\\\n",
    "                        data['rmag']-data['zmag']> -0.3,\\\n",
    "                       data['rmag']-data['zmag']< 1.1,\\\n",
    "                        data['rmag']-wavg> 1.2*(data['gmag']-data['rmag']) -0.4),\\\n",
    "                        axis=0)\n",
    "\n",
    "def get_targets(data):\n",
    "    cut_neg_fluxes(data)\n",
    "    flux_w_ext(data)\n",
    "    flux_to_mag_ab(data)\n",
    "    #indices for each class\n",
    "    BGS_cuts(data)\n",
    "    LRG_cuts(data)\n",
    "    ELG_cuts(data)\n",
    "    QSO_cuts(data)\n",
    "\n"
   ]
  },
  {
   "cell_type": "code",
   "execution_count": 246,
   "metadata": {
    "collapsed": false
   },
   "outputs": [],
   "source": [
    "get_targets(dat)"
   ]
  },
  {
   "cell_type": "code",
   "execution_count": 257,
   "metadata": {
    "collapsed": false
   },
   "outputs": [
    {
     "data": {
      "text/plain": [
       "array([ 0.50172698,  0.97452301,  0.89871001,  1.05328   ,  1.33410001,\n",
       "        1.28351998,  0.99748403,  0.98006701,  2.09682012,  1.16363001,\n",
       "        1.11034   ,  0.844814  ,  0.96263301,  1.11342001,  0.90312898,\n",
       "        1.23327005,  0.82872403,  1.33039999,  1.03795004,  1.12434995,\n",
       "        1.27366996,  0.79148299,  0.75993699,  1.32264996,  1.00803006,\n",
       "        1.19379997,  0.841245  ,  1.04269004,  0.78568399,  0.77584898,\n",
       "        1.27040005,  0.967897  ,  0.76860702,  0.73080802,  1.12190998,\n",
       "        0.803518  ,  1.98473001,  0.86497903,  0.78990602,  0.95128202,\n",
       "        1.08097994,  0.79636401,  1.66356003,  1.35900998,  1.4562    ,\n",
       "        1.89064002,  1.23801994,  1.03161001,  0.945912  ,  1.23062003,\n",
       "        0.77931398,  1.27168   ], dtype=float32)"
      ]
     },
     "execution_count": 257,
     "metadata": {},
     "output_type": "execute_result"
    }
   ],
   "source": [
    "dat['zhelio'][dat['elg']]"
   ]
  },
  {
   "cell_type": "code",
   "execution_count": 103,
   "metadata": {
    "collapsed": false
   },
   "outputs": [
    {
     "name": "stdout",
     "output_type": "stream",
     "text": [
      "keys=  ['zhelio', 'g', 'dr1_r', 'dr1_z', 'dr1_gflux', 'dr2_rflux', 'dr2_zflux']\n"
     ]
    }
   ],
   "source": [
    "for i in range(len(line)):\n",
    "    if i>=2 and i <=4: line[i]='dr1_'+line[i]\n",
    "    elif i>=5 and i <=7: line[i]='dr2_'+line[i]\n",
    "print 'keys= ',line"
   ]
  },
  {
   "cell_type": "code",
   "execution_count": 47,
   "metadata": {
    "collapsed": false
   },
   "outputs": [
    {
     "data": {
      "text/plain": [
       "<matplotlib.collections.PathCollection at 0x108a9f3d0>"
      ]
     },
     "execution_count": 47,
     "metadata": {},
     "output_type": "execute_result"
    },
    {
     "data": {
      "image/png": "[encoded data removed]",
      "text/plain": [
       "<matplotlib.figure.Figure at 0x108f74a90>"
      ]
     },
     "metadata": {},
     "output_type": "display_data"
    }
   ],
   "source": [
    "plt.scatter(data['dr1_gflux'],data['dr2_gflux'])"
   ]
  },
  {
   "cell_type": "code",
   "execution_count": 48,
   "metadata": {
    "collapsed": true
   },
   "outputs": [],
   "source": [
    "from modules.plot.multi_panels import multi_plot"
   ]
  },
  {
   "cell_type": "code",
   "execution_count": 59,
   "metadata": {
    "collapsed": false
   },
   "outputs": [],
   "source": [
    "def row_col_plot(nrow,ncol,x,y,scatter=False,indices=None,fname='test.png',titles=None,xlim=False,ylim=False,logx=False,logy=False):\n",
    "    '''x,y have shape (nrow*ncol,values,extra_axis)\n",
    "    extra_axis is not necessary if plotting single line per plot otherwise extra axis \n",
    "    contains those lines'''\n",
    "    assert(nrow == 1 or ncol == 1)\n",
    "    assert(x.shape[0] == nrow*ncol)\n",
    "    w,h=20,10\n",
    "    fig,axes=plt.subplots(nrow,ncol,figsize=(w,h))\n",
    "    ax=axes.flatten()\n",
    "    plt.subplots_adjust(hspace=0,wspace=0)\n",
    "    cnt=0\n",
    "    for i in range(len(ax)):\n",
    "        if len(x.shape) == 3: #exta_axis, multiple lines per plot\n",
    "            for extra in range(x.shape[2]):\n",
    "                #some values may be nan or inf if some lines longer than others\n",
    "                iuse= np.isfinite(x[cnt,:,extra])\n",
    "                if scatter: ax[i].scatter(x[cnt,iuse,extra],y[cnt,iuse,extra])\n",
    "                else: ax[i].plot(x[cnt,iuse,extra],y[cnt,iuse,extra])\n",
    "        else: \n",
    "            if scatter: ax[i].scatter(x[cnt,:],y[cnt,:])\n",
    "            else: ax[i].plot(x[cnt,:],y[cnt,:])\n",
    "        if titles is not None: ax[i].set_title('%s' % titles[cnt])\n",
    "        cnt+=1\n",
    "    for i in range(len(ax)):\n",
    "        if xlim: ax[i].set_xlim(xlim[0],xlim[1])\n",
    "        if ylim: ax[i].set_ylim(ylim[0],ylim[1])\n",
    "        if logx: ax[i].set_xscale('log')\n",
    "        if logy: ax[i].set_yscale('log')\n",
    "#     for i in range(len(ax)):\n",
    "#         if r != range(nrow)[-1]: ax[i].xaxis.set_major_formatter(plt.NullFormatter())\n",
    "#         if c != 0: ax[i].yaxis.set_major_formatter(plt.NullFormatter())\n",
    "#     plt.savefig(fname)\n",
    "#     plt.close()"
   ]
  },
  {
   "cell_type": "code",
   "execution_count": 62,
   "metadata": {
    "collapsed": false
   },
   "outputs": [
    {
     "data": {
      "image/png": "[encoded data removed]",
      "text/plain": [
       "<matplotlib.figure.Figure at 0x108f9bf10>"
      ]
     },
     "metadata": {},
     "output_type": "display_data"
    }
   ],
   "source": [
    "x=np.zeros( (3,len(data['dr1_gflux']),2) )\n",
    "y=x.copy()\n",
    "for i,dr1,dr2 in zip(range(3),\n",
    "                     ['dr1_gflux', 'dr1_rflux', 'dr1_zflux'],\n",
    "                    ['dr2_gflux', 'dr2_rflux', 'dr2_zflux']):\n",
    "    x[i,:,0]= data[dr1]\n",
    "#     x[i,:,1]= data[dr1] #drawing straight line\n",
    "    y[i,:,0]= data[dr2]\n",
    "#     y[i,:,1]= x[i,:,1]\n",
    "titles=['%s: dr2 vs. dr1' % b for b in ['g','r','z']]\n",
    "row_col_plot(1,3,x,y,titles=titles,scatter=True,ylim=[-10,100],xlim=[-10,100])"
   ]
  },
  {
   "cell_type": "code",
   "execution_count": 84,
   "metadata": {
    "collapsed": false
   },
   "outputs": [
    {
     "data": {
      "text/plain": [
       "(array([  5.00000000e+00,   2.80000000e+01,   1.87000000e+02,\n",
       "          6.98000000e+02,   1.62600000e+03,   3.21600000e+03,\n",
       "          5.35400000e+03,   5.32100000e+03,   6.88000000e+02,\n",
       "          1.70000000e+01]),\n",
       " array([  5.51035528,   8.06474453,  10.61913378,  13.17352303,\n",
       "         15.72791228,  18.28230153,  20.83669078,  23.39108003,\n",
       "         25.94546928,  28.49985853,  31.05424778]),\n",
       " <a list of 10 Patch objects>)"
      ]
     },
     "execution_count": 84,
     "metadata": {},
     "output_type": "execute_result"
    },
    {
     "data": {
      "image/png": "[encoded data removed]",
      "text/plain": [
       "<matplotlib.figure.Figure at 0x10b95be90>"
      ]
     },
     "metadata": {},
     "output_type": "display_data"
    }
   ],
   "source": [
    "plt.hist(data['mag_isocor'],color='b',alpha=0.5)\n",
    "mags= -2.5*np.log(data['dr1_zflux'][ data['dr1_zflux'] > 0 ])\n",
    "plt.hist(mags+22.5,color='r',alpha=0.5)"
   ]
  },
  {
   "cell_type": "code",
   "execution_count": 69,
   "metadata": {
    "collapsed": true
   },
   "outputs": [],
   "source": []
  },
  {
   "cell_type": "code",
   "execution_count": 82,
   "metadata": {
    "collapsed": false
   },
   "outputs": [
    {
     "data": {
      "text/plain": [
       "(array([    7.,    40.,   211.,   707.,  1779.,  4467.,  6879.,  2139.,\n",
       "          561.,    47.]),\n",
       " array([ 16.93814952,  18.08892264,  19.23969576,  20.39046887,\n",
       "         21.54124199,  22.69201511,  23.84278822,  24.99356134,\n",
       "         26.14433446,  27.29510757,  28.44588069]),\n",
       " <a list of 10 Patch objects>)"
      ]
     },
     "execution_count": 82,
     "metadata": {},
     "output_type": "execute_result"
    },
    {
     "data": {
      "image/png": "[encoded data removed]",
      "text/plain": [
       "<matplotlib.figure.Figure at 0x10b947350>"
      ]
     },
     "metadata": {},
     "output_type": "display_data"
    }
   ],
   "source": [
    "# plt.hist( flux_to_mag(data['dr1_gflux']))\n",
    "mags= -2.5*np.log10(data['dr1_gflux'][ data['dr1_gflux'] > 0 ])\n",
    "plt.hist(mags+22.5)"
   ]
  },
  {
   "cell_type": "code",
   "execution_count": 81,
   "metadata": {
    "collapsed": false
   },
   "outputs": [
    {
     "data": {
      "text/plain": [
       "(array([  5.00000000e+00,   2.80000000e+01,   1.87000000e+02,\n",
       "          6.98000000e+02,   1.62600000e+03,   3.21600000e+03,\n",
       "          5.35400000e+03,   5.32100000e+03,   6.88000000e+02,\n",
       "          1.70000000e+01]),\n",
       " array([-16.98964472, -14.43525547, -11.88086622,  -9.32647697,\n",
       "         -6.77208772,  -4.21769847,  -1.66330922,   0.89108003,\n",
       "          3.44546928,   5.99985853,   8.55424778]),\n",
       " <a list of 10 Patch objects>)"
      ]
     },
     "execution_count": 81,
     "metadata": {},
     "output_type": "execute_result"
    },
    {
     "data": {
      "image/png": "[encoded data removed]",
      "text/plain": [
       "<matplotlib.figure.Figure at 0x10b7a7810>"
      ]
     },
     "metadata": {},
     "output_type": "display_data"
    }
   ],
   "source": [
    "mags= -2.5*np.log(data['dr1_zflux'][ data['dr1_zflux'] > 0 ])\n",
    "plt.hist(mags)"
   ]
  },
  {
   "cell_type": "code",
   "execution_count": 80,
   "metadata": {
    "collapsed": false
   },
   "outputs": [
    {
     "data": {
      "text/plain": [
       "17.269388197455342"
      ]
     },
     "execution_count": 80,
     "metadata": {},
     "output_type": "execute_result"
    }
   ],
   "source": [
    "-2.5*np.log(1e-3)"
   ]
  },
  {
   "cell_type": "code",
   "execution_count": 86,
   "metadata": {
    "collapsed": false
   },
   "outputs": [
    {
     "data": {
      "text/plain": [
       "'Wed Feb 17 15:42:33 PST 2016\\n'"
      ]
     },
     "execution_count": 86,
     "metadata": {},
     "output_type": "execute_result"
    }
   ],
   "source": [
    "bashCommand = \"date\"\n",
    "process = subprocess.Popen(bashCommand.split(), stdout=subprocess.PIPE)\n",
    "output = process.communicate()[0]\n",
    "output"
   ]
  },
  {
   "cell_type": "code",
   "execution_count": 99,
   "metadata": {
    "collapsed": false
   },
   "outputs": [
    {
     "data": {
      "text/plain": [
       "True"
      ]
     },
     "execution_count": 99,
     "metadata": {},
     "output_type": "execute_result"
    }
   ],
   "source": [
    "a='deep2_f2'\n",
    "a.startswith('deep2')"
   ]
  },
  {
   "cell_type": "code",
   "execution_count": 98,
   "metadata": {
    "collapsed": false
   },
   "outputs": [
    {
     "data": {
      "text/plain": [
       "'15-42-33PST2016'"
      ]
     },
     "execution_count": 98,
     "metadata": {},
     "output_type": "execute_result"
    }
   ],
   "source": [
    "output[output.find(':')-2:].replace(' ','').strip().replace(':','-')"
   ]
  },
  {
   "cell_type": "code",
   "execution_count": 91,
   "metadata": {
    "collapsed": false
   },
   "outputs": [
    {
     "data": {
      "text/plain": [
       "':42:33 PST 2016\\n'"
      ]
     },
     "execution_count": 91,
     "metadata": {},
     "output_type": "execute_result"
    }
   ],
   "source": [
    "output[13:]"
   ]
  },
  {
   "cell_type": "code",
   "execution_count": null,
   "metadata": {
    "collapsed": true
   },
   "outputs": [],
   "source": []
  }
 ],
 "metadata": {
  "kernelspec": {
   "display_name": "Python 2",
   "language": "python",
   "name": "python2"
  },
  "language_info": {
   "codemirror_mode": {
    "name": "ipython",
    "version": 2
   },
   "file_extension": ".py",
   "mimetype": "text/x-python",
   "name": "python",
   "nbconvert_exporter": "python",
   "pygments_lexer": "ipython2",
   "version": "2.7.11"
  }
 },
 "nbformat": 4,
 "nbformat_minor": 0
}
